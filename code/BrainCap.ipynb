{
 "cells": [
  {
   "cell_type": "code",
   "execution_count": 43,
   "metadata": {
    "collapsed": true
   },
   "outputs": [],
   "source": [
    "from fmri_caption import GPTCaptionModel, create_fmri_encoder_from_pretrained,top_k_top_p_filtering\n",
    "from dataset import create_BOLD5000_dataset\n",
    "from torch.utils.data import DataLoader, Subset\n",
    "import torch\n",
    "import torch.optim as optim\n",
    "import torch.nn.functional as F\n",
    "from sentence_transformers import SentenceTransformer, util\n",
    "from sklearn.model_selection import train_test_split"
   ]
  },
  {
   "cell_type": "markdown",
   "metadata": {
    "collapsed": false
   },
   "source": [
    "#### Setup"
   ]
  },
  {
   "cell_type": "code",
   "execution_count": 20,
   "metadata": {
    "collapsed": false
   },
   "outputs": [],
   "source": [
    "# Parameters\n",
    "BATCH_SIZE = 3\n",
    "device = torch.device(\"cuda:0\" if torch.cuda.is_available() else \"cpu\")"
   ]
  },
  {
   "cell_type": "code",
   "execution_count": 3,
   "metadata": {
    "collapsed": false
   },
   "outputs": [],
   "source": [
    "# Pretrained files\n",
    "path_fmri_encoder = r\"C:\\Users\\roeys\\OneDrive - Technion\\Semester 7\\DL\\Project\\Mind-Cap\\Mind-Cap\\pretrains\\pretrain_metafile.pth\"\n",
    "path_BOLD_dataset = r\"C:\\Users\\roeys\\OneDrive - Technion\\Semester 7\\DL\\Project\\Mind-Cap\\Mind-Cap\\data\\BOLD5000\\CSI1_dataset.pth\"\n",
    "\n",
    "# create BOLD5000 dataset\n",
    "BOLD_dataset = torch.load(path_BOLD_dataset)\n",
    "bold_train, bold_test = BOLD_dataset['train'], BOLD_dataset['test']\n"
   ]
  },
  {
   "cell_type": "code",
   "execution_count": 23,
   "metadata": {
    "collapsed": false
   },
   "outputs": [],
   "source": [
    "test_idx, val_idx = train_test_split(list(range(len(bold_test))),test_size=0.5)\n",
    "bold_val = Subset(bold_test, val_idx)\n",
    "bold_test = Subset(bold_test, test_idx)\n",
    "\n",
    "train_dl = DataLoader(bold_train, batch_size=BATCH_SIZE, shuffle=True)\n",
    "val_dl = DataLoader(bold_val, batch_size=BATCH_SIZE, shuffle=True)\n",
    "test_dl = DataLoader(bold_test, batch_size=BATCH_SIZE, shuffle=True)\n"
   ]
  },
  {
   "cell_type": "code",
   "execution_count": 10,
   "metadata": {
    "collapsed": false
   },
   "outputs": [
    {
     "data": {
      "text/plain": [
       "10064"
      ]
     },
     "execution_count": 10,
     "metadata": {},
     "output_type": "execute_result"
    }
   ],
   "source": []
  },
  {
   "cell_type": "markdown",
   "metadata": {
    "collapsed": false
   },
   "source": [
    "#### Function Delerations"
   ]
  },
  {
   "cell_type": "code",
   "execution_count": 45,
   "metadata": {
    "collapsed": false
   },
   "outputs": [],
   "source": [
    "def calculate_semantic_similarity(fmri_prefix, real_caption, decoder):\n",
    "    generated_caption = decoder.generate_caption(fmri_prefix)\n",
    "    sentence_model = SentenceTransformer('all-mpnet-base-v2')\n",
    "    embed_generated = sentence_model.encode(generated_caption, convert_to_tensor=True)\n",
    "    embed_real_caption = sentence_model.encode(real_caption, convert_to_tensor=True)\n",
    "\n",
    "    return util.pytorch_cos_sim(embed_generated, embed_real_caption)\n",
    "\n",
    "def define_GPTCaption_model(encoder, trial=None, projection_sizes=None):\n",
    "    if trial:\n",
    "        # TODO: Add Optuna support. If trial is used, override projection_sizes with Optuna suggestion\n",
    "        num_layers = trial.suggest_int(\"num_projection_layers\", 1, 5)\n",
    "        projection_sizes = [encoder.embed_dim]*num_layers\n",
    "    gpt_decoder = GPTCaptionModel(encoder.num_patches, encoder.embed_dim, projection_sizes)\n",
    "\n",
    "    return gpt_decoder\n",
    "\n",
    "def objective(trial, encoder, train_dl, val_dl, device):\n",
    "\n",
    "    # Generate the model\n",
    "    model = define_GPTCaption_model(encoder, trial).to(device)\n",
    "\n",
    "    # Generate the optimizers\n",
    "    lr = trial.suggest_float(\"lr\", 1e-5, 1e-1, log=True)\n",
    "    optimizer_name = trial.suggest_categorial(\"optimizer\", ['Adam', 'AdamW', \"SGD\"])\n",
    "    optimizer = getattr(optim, optimizer_name)(model.parameters(), lr)\n",
    "\n",
    "    # Training\n",
    "    encoder.eval()\n",
    "    epoch_train_loss = []\n",
    "    for epoch in range(NUM_EPOCHS):\n",
    "        model.train()\n",
    "        print(f\"** Starting epoch {epoch} **\")\n",
    "        for batch_idx, batch in enumerate(train_dl):\n",
    "            if batch_idx*BATCH_SIZE >= TRIAL_NUM_TRAIN_EXAMPLES:\n",
    "                break\n",
    "\n",
    "            encoder.zero_grad(set_to_none=True)\n",
    "            optimizer.zero_grad(set_to_none=True)\n",
    "\n",
    "            batch_fmri = batch['fmri'].to(device)\n",
    "\n",
    "            print(f\">>>> encoding fmri scans \", end=\"\")\n",
    "            fmri_prefix = encoder.forward(batch['fmri'])\n",
    "            print(f\"-> tokenizing captions \", end=\"\")\n",
    "            tokens, attention_mask = model.decoder.tokenizer(batch['caption'], return_tensors=\"pt\", padding=True).values()\n",
    "            print(f\"-> to device {device} \", end=\"\")\n",
    "            tokens, attention_mask, fmri_prefix = tokens.to(device), attention_mask.to(device), fmri_prefix.to(device)\n",
    "            print(f\"-> decoding \", end=\"\")\n",
    "            outputs = model.forward(tokens, fmri_prefix, attention_mask)\n",
    "            logits = outputs.logits[:, model.decoder.prefix_length-1:-1]\n",
    "\n",
    "            print(f\"-> calculating loss \")\n",
    "            loss = F.cross_entropy(logits.reshape(-1, logits.shape[-1]), tokens.flatten(), ignore_index=decoder.tokenizer.pad_token_id)\n",
    "            loss.backward()\n",
    "            epoch_train_loss.append(loss.item())\n",
    "            optimizer.step()\n",
    "            print(f\">>>> batch {batch_idx} finished\")\n",
    "\n",
    "        print(f\"---- epoch loss: {epoch_train_loss[epoch]} ---- \")\n",
    "\n",
    "    # Evaluating model\n",
    "    model.eval()\n",
    "\n"
   ]
  },
  {
   "cell_type": "markdown",
   "metadata": {
    "collapsed": false
   },
   "source": [
    "#### Training Loop"
   ]
  },
  {
   "cell_type": "code",
   "execution_count": 24,
   "metadata": {
    "collapsed": false
   },
   "outputs": [],
   "source": [
    "# Constants\n",
    "lr = 1e-3\n",
    "NUM_EPOCHS = 5\n",
    "TRIAL_NUM_TRAIN_EXAMPLES = BATCH_SIZE*30\n",
    "TRIAL_NUM_VAL_EXAMPLES = BATCH_SIZE*10"
   ]
  },
  {
   "cell_type": "code",
   "execution_count": null,
   "metadata": {
    "collapsed": false
   },
   "outputs": [],
   "source": [
    "# Get encoder-decoder\n",
    "encoder = create_fmri_encoder_from_pretrained(path_fmri_encoder, bold_train.num_voxels)\n",
    "encoder = encoder.to(device)\n",
    "encoder.eval()\n",
    "decoder = define_GPTCaption_model(encoder, projection_sizes=[encoder.embed_dim])\n",
    "decoder = decoder.to(device)\n",
    "optimizer = optim.AdamW(decoder.parameters(), lr=lr)\n"
   ]
  },
  {
   "cell_type": "code",
   "execution_count": 29,
   "metadata": {
    "collapsed": false
   },
   "outputs": [
    {
     "name": "stdout",
     "output_type": "stream",
     "text": [
      "\n",
      "\n",
      "\n",
      "** Starting epoch 0 **\n",
      ">>>> encoding fmri scans -> tokenizing captions -> decoding \n",
      ">>>> batch 0 finished\n",
      ">>>> encoding fmri scans -> tokenizing captions -> decoding \n",
      ">>>> batch 1 finished\n",
      ">>>> encoding fmri scans -> tokenizing captions -> decoding \n",
      ">>>> batch 2 finished\n",
      ">>>> encoding fmri scans -> tokenizing captions -> decoding \n",
      ">>>> batch 3 finished\n",
      ">>>> encoding fmri scans -> tokenizing captions -> decoding \n",
      ">>>> batch 4 finished\n",
      ">>>> encoding fmri scans -> tokenizing captions -> decoding \n",
      ">>>> batch 5 finished\n",
      ">>>> encoding fmri scans -> tokenizing captions -> decoding \n",
      ">>>> batch 6 finished\n",
      ">>>> encoding fmri scans -> tokenizing captions -> decoding \n",
      ">>>> batch 7 finished\n",
      ">>>> encoding fmri scans -> tokenizing captions -> decoding \n",
      ">>>> batch 8 finished\n",
      ">>>> encoding fmri scans -> tokenizing captions -> decoding \n",
      ">>>> batch 9 finished\n",
      ">>>> encoding fmri scans -> tokenizing captions -> decoding \n",
      ">>>> batch 10 finished\n",
      ">>>> encoding fmri scans -> tokenizing captions -> decoding \n",
      ">>>> batch 11 finished\n",
      ">>>> encoding fmri scans -> tokenizing captions -> decoding \n",
      ">>>> batch 12 finished\n",
      ">>>> encoding fmri scans -> tokenizing captions -> decoding \n"
     ]
    },
    {
     "ename": "KeyboardInterrupt",
     "evalue": "",
     "output_type": "error",
     "traceback": [
      "\u001b[1;31m---------------------------------------------------------------------------\u001b[0m",
      "\u001b[1;31mKeyboardInterrupt\u001b[0m                         Traceback (most recent call last)",
      "Cell \u001b[1;32mIn[29], line 21\u001b[0m\n\u001b[0;32m     18\u001b[0m logits \u001b[38;5;241m=\u001b[39m outputs\u001b[38;5;241m.\u001b[39mlogits[:, decoder\u001b[38;5;241m.\u001b[39mprefix_length\u001b[38;5;241m-\u001b[39m\u001b[38;5;241m1\u001b[39m:\u001b[38;5;241m-\u001b[39m\u001b[38;5;241m1\u001b[39m]\n\u001b[0;32m     20\u001b[0m loss \u001b[38;5;241m=\u001b[39m F\u001b[38;5;241m.\u001b[39mcross_entropy(logits\u001b[38;5;241m.\u001b[39mreshape(\u001b[38;5;241m-\u001b[39m\u001b[38;5;241m1\u001b[39m, logits\u001b[38;5;241m.\u001b[39mshape[\u001b[38;5;241m-\u001b[39m\u001b[38;5;241m1\u001b[39m]), tokens\u001b[38;5;241m.\u001b[39mflatten(), ignore_index\u001b[38;5;241m=\u001b[39mdecoder\u001b[38;5;241m.\u001b[39mtokenizer\u001b[38;5;241m.\u001b[39mpad_token_id)\n\u001b[1;32m---> 21\u001b[0m \u001b[43mloss\u001b[49m\u001b[38;5;241;43m.\u001b[39;49m\u001b[43mbackward\u001b[49m\u001b[43m(\u001b[49m\u001b[43m)\u001b[49m\n\u001b[0;32m     22\u001b[0m epoch_train_loss\u001b[38;5;241m.\u001b[39mappend(loss\u001b[38;5;241m.\u001b[39mitem())\n\u001b[0;32m     23\u001b[0m optimizer\u001b[38;5;241m.\u001b[39mstep()\n",
      "File \u001b[1;32m~\\anaconda3\\envs\\mind-cap\\lib\\site-packages\\torch\\_tensor.py:396\u001b[0m, in \u001b[0;36mTensor.backward\u001b[1;34m(self, gradient, retain_graph, create_graph, inputs)\u001b[0m\n\u001b[0;32m    387\u001b[0m \u001b[38;5;28;01mif\u001b[39;00m has_torch_function_unary(\u001b[38;5;28mself\u001b[39m):\n\u001b[0;32m    388\u001b[0m     \u001b[38;5;28;01mreturn\u001b[39;00m handle_torch_function(\n\u001b[0;32m    389\u001b[0m         Tensor\u001b[38;5;241m.\u001b[39mbackward,\n\u001b[0;32m    390\u001b[0m         (\u001b[38;5;28mself\u001b[39m,),\n\u001b[1;32m   (...)\u001b[0m\n\u001b[0;32m    394\u001b[0m         create_graph\u001b[38;5;241m=\u001b[39mcreate_graph,\n\u001b[0;32m    395\u001b[0m         inputs\u001b[38;5;241m=\u001b[39minputs)\n\u001b[1;32m--> 396\u001b[0m \u001b[43mtorch\u001b[49m\u001b[38;5;241;43m.\u001b[39;49m\u001b[43mautograd\u001b[49m\u001b[38;5;241;43m.\u001b[39;49m\u001b[43mbackward\u001b[49m\u001b[43m(\u001b[49m\u001b[38;5;28;43mself\u001b[39;49m\u001b[43m,\u001b[49m\u001b[43m \u001b[49m\u001b[43mgradient\u001b[49m\u001b[43m,\u001b[49m\u001b[43m \u001b[49m\u001b[43mretain_graph\u001b[49m\u001b[43m,\u001b[49m\u001b[43m \u001b[49m\u001b[43mcreate_graph\u001b[49m\u001b[43m,\u001b[49m\u001b[43m \u001b[49m\u001b[43minputs\u001b[49m\u001b[38;5;241;43m=\u001b[39;49m\u001b[43minputs\u001b[49m\u001b[43m)\u001b[49m\n",
      "File \u001b[1;32m~\\anaconda3\\envs\\mind-cap\\lib\\site-packages\\torch\\autograd\\__init__.py:173\u001b[0m, in \u001b[0;36mbackward\u001b[1;34m(tensors, grad_tensors, retain_graph, create_graph, grad_variables, inputs)\u001b[0m\n\u001b[0;32m    168\u001b[0m     retain_graph \u001b[38;5;241m=\u001b[39m create_graph\n\u001b[0;32m    170\u001b[0m \u001b[38;5;66;03m# The reason we repeat same the comment below is that\u001b[39;00m\n\u001b[0;32m    171\u001b[0m \u001b[38;5;66;03m# some Python versions print out the first line of a multi-line function\u001b[39;00m\n\u001b[0;32m    172\u001b[0m \u001b[38;5;66;03m# calls in the traceback and some print out the last line\u001b[39;00m\n\u001b[1;32m--> 173\u001b[0m \u001b[43mVariable\u001b[49m\u001b[38;5;241;43m.\u001b[39;49m\u001b[43m_execution_engine\u001b[49m\u001b[38;5;241;43m.\u001b[39;49m\u001b[43mrun_backward\u001b[49m\u001b[43m(\u001b[49m\u001b[43m  \u001b[49m\u001b[38;5;66;43;03m# Calls into the C++ engine to run the backward pass\u001b[39;49;00m\n\u001b[0;32m    174\u001b[0m \u001b[43m    \u001b[49m\u001b[43mtensors\u001b[49m\u001b[43m,\u001b[49m\u001b[43m \u001b[49m\u001b[43mgrad_tensors_\u001b[49m\u001b[43m,\u001b[49m\u001b[43m \u001b[49m\u001b[43mretain_graph\u001b[49m\u001b[43m,\u001b[49m\u001b[43m \u001b[49m\u001b[43mcreate_graph\u001b[49m\u001b[43m,\u001b[49m\u001b[43m \u001b[49m\u001b[43minputs\u001b[49m\u001b[43m,\u001b[49m\n\u001b[0;32m    175\u001b[0m \u001b[43m    \u001b[49m\u001b[43mallow_unreachable\u001b[49m\u001b[38;5;241;43m=\u001b[39;49m\u001b[38;5;28;43;01mTrue\u001b[39;49;00m\u001b[43m,\u001b[49m\u001b[43m \u001b[49m\u001b[43maccumulate_grad\u001b[49m\u001b[38;5;241;43m=\u001b[39;49m\u001b[38;5;28;43;01mTrue\u001b[39;49;00m\u001b[43m)\u001b[49m\n",
      "\u001b[1;31mKeyboardInterrupt\u001b[0m: "
     ]
    }
   ],
   "source": [
    "# Train\n",
    "print(\"\\n\\n\")\n",
    "epoch_train_loss = []\n",
    "for epoch in range(NUM_EPOCHS):\n",
    "    decoder.train()\n",
    "    print(f\"** Starting epoch {epoch} **\")\n",
    "    for batch_idx, batch in enumerate(train_dl):\n",
    "        decoder.zero_grad(set_to_none=True)\n",
    "        optimizer.zero_grad(set_to_none=True)\n",
    "\n",
    "        print(f\">>>> encoding fmri scans \", end=\"\")\n",
    "        fmri_prefix = encoder.forward(batch['fmri'])\n",
    "        print(f\"-> tokenizing captions \", end=\"\")\n",
    "        tokens, attention_mask = decoder.tokenizer(batch['caption'], return_tensors=\"pt\", padding=True).values()\n",
    "        tokens, attention_mask, fmri_prefix = tokens.to(device), attention_mask.to(device), fmri_prefix.to(device)\n",
    "        print(f\"-> decoding \")\n",
    "        outputs = decoder.forward(tokens, fmri_prefix, attention_mask)\n",
    "        logits = outputs.logits[:, decoder.prefix_length-1:-1]\n",
    "\n",
    "        loss = F.cross_entropy(logits.reshape(-1, logits.shape[-1]), tokens.flatten(), ignore_index=decoder.tokenizer.pad_token_id)\n",
    "        loss.backward()\n",
    "        epoch_train_loss.append(loss.item())\n",
    "        optimizer.step()\n",
    "        print(f\">>>> batch {batch_idx} finished\")\n",
    "\n",
    "    print(f\"---- epoch loss: {epoch_train_loss[epoch]} ---- \")\n",
    "\n"
   ]
  },
  {
   "cell_type": "code",
   "execution_count": 33,
   "metadata": {
    "collapsed": false
   },
   "outputs": [],
   "source": [
    "sent1 = \"I like Python because I can build AI applications\"\n",
    "sent2 = \"I like Python because I can do data analytics\"\n",
    "token1 = decoder.tokenizer.encode(sent1, return_tensors=\"pt\")\n",
    "token2 = decoder.tokenizer.encode(sent2, return_tensors=\"pt\")\n",
    "embed1 = decoder.gpt.transformer.wte(token1)\n",
    "embed2 = decoder.gpt.transformer.wte(token2)\n",
    "#torch.cosine_similarity()"
   ]
  },
  {
   "cell_type": "code",
   "execution_count": 44,
   "metadata": {
    "collapsed": false
   },
   "outputs": [
    {
     "ename": "RuntimeError",
     "evalue": "torch.searchsorted(): boundaries tensor should be 1 dimension or the first N-1 dimensions of boundaries tensor and input value tensor must match, but we got boundaries tensor [3, 16, 1000] and input value tensor [3, 1]",
     "output_type": "error",
     "traceback": [
      "\u001b[1;31m---------------------------------------------------------------------------\u001b[0m",
      "\u001b[1;31mRuntimeError\u001b[0m                              Traceback (most recent call last)",
      "Cell \u001b[1;32mIn[44], line 1\u001b[0m\n\u001b[1;32m----> 1\u001b[0m filtered \u001b[38;5;241m=\u001b[39m \u001b[43mtop_k_top_p_filtering\u001b[49m\u001b[43m(\u001b[49m\u001b[43mlogits\u001b[49m\u001b[43m,\u001b[49m\u001b[43mtop_k\u001b[49m\u001b[38;5;241;43m=\u001b[39;49m\u001b[38;5;241;43m1000\u001b[39;49m\u001b[43m,\u001b[49m\u001b[43m \u001b[49m\u001b[43mtop_p\u001b[49m\u001b[38;5;241;43m=\u001b[39;49m\u001b[38;5;241;43m0.95\u001b[39;49m\u001b[43m)\u001b[49m\n",
      "File \u001b[1;32m~\\OneDrive - Technion\\Semester 7\\DL\\Project\\Mind-Cap\\Mind-Cap\\code\\fmri_caption.py:134\u001b[0m, in \u001b[0;36mtop_k_top_p_filtering\u001b[1;34m(next_token_logits, top_k, top_p, device)\u001b[0m\n\u001b[0;32m    132\u001b[0m cumulative_p \u001b[38;5;241m=\u001b[39m p\u001b[38;5;241m.\u001b[39mcumsum(dim\u001b[38;5;241m=\u001b[39m\u001b[38;5;241m-\u001b[39m\u001b[38;5;241m1\u001b[39m)\n\u001b[0;32m    133\u001b[0m threshold_repeated \u001b[38;5;241m=\u001b[39m top_p \u001b[38;5;241m+\u001b[39m torch\u001b[38;5;241m.\u001b[39mzeros((\u001b[38;5;28mlen\u001b[39m(p), \u001b[38;5;241m1\u001b[39m))\u001b[38;5;241m.\u001b[39mto(device)\n\u001b[1;32m--> 134\u001b[0m idx \u001b[38;5;241m=\u001b[39m \u001b[43mtorch\u001b[49m\u001b[38;5;241;43m.\u001b[39;49m\u001b[43msearchsorted\u001b[49m\u001b[43m(\u001b[49m\u001b[43mcumulative_p\u001b[49m\u001b[43m,\u001b[49m\u001b[43m \u001b[49m\u001b[43mthreshold_repeated\u001b[49m\u001b[43m)\u001b[49m\u001b[38;5;241m.\u001b[39mclip(\u001b[38;5;28mmax\u001b[39m\u001b[38;5;241m=\u001b[39mtop_k \u001b[38;5;241m-\u001b[39m \u001b[38;5;241m1\u001b[39m)\u001b[38;5;241m.\u001b[39msqueeze()\n\u001b[0;32m    135\u001b[0m cutoffs \u001b[38;5;241m=\u001b[39m cumulative_p[torch\u001b[38;5;241m.\u001b[39marange(\u001b[38;5;28mlen\u001b[39m(cumulative_p)), idx]\n\u001b[0;32m    136\u001b[0m censored_p \u001b[38;5;241m=\u001b[39m (cumulative_p \u001b[38;5;241m<\u001b[39m\u001b[38;5;241m=\u001b[39m cutoffs[:, \u001b[38;5;28;01mNone\u001b[39;00m]) \u001b[38;5;241m*\u001b[39m p\n",
      "\u001b[1;31mRuntimeError\u001b[0m: torch.searchsorted(): boundaries tensor should be 1 dimension or the first N-1 dimensions of boundaries tensor and input value tensor must match, but we got boundaries tensor [3, 16, 1000] and input value tensor [3, 1]"
     ]
    }
   ],
   "source": [
    "filtered = top_k_top_p_filtering(logits,top_k=1000, top_p=0.95)"
   ]
  }
 ],
 "metadata": {
  "kernelspec": {
   "display_name": "Python 3",
   "language": "python",
   "name": "python3"
  },
  "language_info": {
   "codemirror_mode": {
    "name": "ipython",
    "version": 2
   },
   "file_extension": ".py",
   "mimetype": "text/x-python",
   "name": "python",
   "nbconvert_exporter": "python",
   "pygments_lexer": "ipython2",
   "version": "2.7.6"
  }
 },
 "nbformat": 4,
 "nbformat_minor": 0
}
