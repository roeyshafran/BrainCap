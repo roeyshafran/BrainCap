{
 "cells": [
  {
   "cell_type": "code",
   "execution_count": 43,
   "metadata": {
    "collapsed": true
   },
   "outputs": [],
   "source": [
    "from fmri_caption import GPTCaptionModel, create_fmri_encoder_from_pretrained,top_k_top_p_filtering\n",
    "from dataset import create_BOLD5000_dataset\n",
    "from torch.utils.data import DataLoader, Subset\n",
    "import torch\n",
    "import torch.optim as optim\n",
    "import torch.nn.functional as F\n",
    "from sentence_transformers import SentenceTransformer, util\n",
    "from sklearn.model_selection import train_test_split"
   ]
  },
  {
   "cell_type": "markdown",
   "source": [
    "#### Setup"
   ],
   "metadata": {
    "collapsed": false
   }
  },
  {
   "cell_type": "code",
   "execution_count": 20,
   "outputs": [],
   "source": [
    "# Parameters\n",
    "BATCH_SIZE = 3\n",
    "device = torch.device(\"cuda:0\" if torch.cuda.is_available() else \"cpu\")"
   ],
   "metadata": {
    "collapsed": false
   }
  },
  {
   "cell_type": "code",
   "execution_count": 3,
   "outputs": [],
   "source": [
    "# Pretrained files\n",
    "path_fmri_encoder = r\"C:\\Users\\roeys\\OneDrive - Technion\\Semester 7\\DL\\Project\\Mind-Cap\\Mind-Cap\\pretrains\\pretrain_metafile.pth\"\n",
    "path_BOLD_dataset = r\"C:\\Users\\roeys\\OneDrive - Technion\\Semester 7\\DL\\Project\\Mind-Cap\\Mind-Cap\\data\\BOLD5000\\CSI1_dataset.pth\"\n",
    "\n",
    "# create BOLD5000 dataset\n",
    "BOLD_dataset = torch.load(path_BOLD_dataset)\n",
    "bold_train, bold_test = BOLD_dataset['train'], BOLD_dataset['test']\n"
   ],
   "metadata": {
    "collapsed": false
   }
  },
  {
   "cell_type": "code",
   "execution_count": 23,
   "outputs": [],
   "source": [
    "test_idx, val_idx = train_test_split(list(range(len(bold_test))),test_size=0.5)\n",
    "bold_val = Subset(bold_test, val_idx)\n",
    "bold_test = Subset(bold_test, test_idx)\n",
    "\n",
    "train_dl = DataLoader(bold_train, batch_size=BATCH_SIZE, shuffle=True)\n",
    "val_dl = DataLoader(bold_val, batch_size=BATCH_SIZE, shuffle=True)\n",
    "test_dl = DataLoader(bold_test, batch_size=BATCH_SIZE, shuffle=True)\n"
   ],
   "metadata": {
    "collapsed": false
   }
  },
  {
   "cell_type": "code",
   "execution_count": 10,
   "outputs": [
    {
     "data": {
      "text/plain": "10064"
     },
     "execution_count": 10,
     "metadata": {},
     "output_type": "execute_result"
    }
   ],
   "source": [],
   "metadata": {
    "collapsed": false
   }
  },
  {
   "cell_type": "markdown",
   "source": [
    "#### Function Delerations"
   ],
   "metadata": {
    "collapsed": false
   }
  },
  {
   "cell_type": "code",
   "execution_count": 45,
   "outputs": [],
   "source": [
    "def calculate_semantic_similarity(fmri_prefix, real_caption, decoder):\n",
    "    generated_caption = decoder.generate_caption(fmri_prefix)\n",
    "    sentence_model = SentenceTransformer('all-mpnet-base-v2')\n",
    "    embed_generated = sentence_model.encode(generated_caption, convert_to_tensor=True)\n",
    "    embed_real_caption = sentence_model.encode(real_caption, convert_to_tensor=True)\n",
    "\n",
    "    return util.pytorch_cos_sim(embed_generated, embed_real_caption)\n",
    "\n",
    "def define_GPTCaption_model(encoder, trial=None, projection_sizes=None):\n",
    "    if trial:\n",
    "        # TODO: Add Optuna support. If trial is used, override projection_sizes with Optuna suggestion\n",
    "        num_layers = trial.suggest_int(\"num_projection_layers\", 1, 5)\n",
    "        projection_sizes = [encoder.embed_dim]*num_layers\n",
    "    gpt_decoder = GPTCaptionModel(encoder.num_patches, encoder.embed_dim, projection_sizes)\n",
    "\n",
    "    return gpt_decoder\n",
    "\n",
    "def objective(trial, encoder, train_dl, val_dl):\n",
    "\n",
    "    # Generate the model\n",
    "    model = define_GPTCaption_model(encoder, trial)\n",
    "\n",
    "    # Generate the optimizers\n",
    "    lr = trial.suggest_float(\"lr\", 1e-5, 1e-1, log=True)\n",
    "    optimizer_name = trial.suggest_categorial(\"optimizer\", ['Adam', 'AdamW', \"SGD\"])\n",
    "    optimizer = getattr(optim, optimizer_name)(model.parameters(), lr)\n",
    "\n",
    "    # Training\n",
    "    encoder.eval()\n",
    "    for epoch in range(NUM_EPOCHS):\n",
    "        model.train()\n",
    "        print(f\"** Starting epoch {epoch} **\")\n",
    "        for batch_idx, batch in enumerate(train_dl):\n",
    "            if batch_idx*BATCH_SIZE >= TRIAL_NUM_TRAIN_EXAMPLES:\n",
    "                break\n",
    "\n",
    "            encoder.zero_grad()\n",
    "            optimizer.zero_grad()\n",
    "\n",
    "            print(f\">>>> encoding fmri scans \", end=\"\")\n",
    "            fmri_prefix = encoder.forward(batch['fmri'])\n",
    "            print(f\"-> tokenizing captions \", end=\"\")\n",
    "            tokens, attention_mask = decoder.tokenizer(batch['caption'], return_tensors=\"pt\", padding=True).values()\n",
    "            print(f\"-> to device {device} \", end=\"\")\n",
    "            tokens, attention_mask, fmri_prefix = tokens.to(device), attention_mask.to(device), fmri_prefix.to(device)\n",
    "            print(f\"-> decoding \", end=\"\")\n",
    "            outputs = model.forward(tokens, fmri_prefix, attention_mask)\n",
    "            logits = outputs.logits[:, decoder.prefix_length-1:-1]\n",
    "\n",
    "            print(f\"-> calculating loss \")\n",
    "            loss = F.cross_entropy(logits.reshape(-1, logits.shape[-1]), tokens.flatten(), ignore_index=decoder.tokenizer.pad_token_id)\n",
    "            loss.backward()\n",
    "            epoch_train_loss.append(loss.item())\n",
    "            optimizer.step()\n",
    "            print(f\">>>> batch {batch_idx} finished\")\n",
    "\n",
    "        print(f\"---- epoch loss: {epoch_train_loss[epoch]} ---- \")\n",
    "\n",
    "    # Evaluating model\n",
    "    model.eval()\n",
    "\n"
   ],
   "metadata": {
    "collapsed": false
   }
  },
  {
   "cell_type": "markdown",
   "source": [
    "#### Training Loop"
   ],
   "metadata": {
    "collapsed": false
   }
  },
  {
   "cell_type": "code",
   "execution_count": 24,
   "outputs": [],
   "source": [
    "# Constants\n",
    "lr = 1e-3\n",
    "NUM_EPOCHS = 5\n",
    "TRIAL_NUM_TRAIN_EXAMPLES = BATCH_SIZE*30\n",
    "TRIAL_NUM_VAL_EXAMPLES = BATCH_SIZE*10"
   ],
   "metadata": {
    "collapsed": false
   }
  },
  {
   "cell_type": "code",
   "execution_count": null,
   "outputs": [],
   "source": [
    "# Get encoder-decoder\n",
    "encoder = create_fmri_encoder_from_pretrained(path_fmri_encoder, bold_train.num_voxels)\n",
    "encoder.eval()\n",
    "decoder = define_GPTCaption_model(encoder, projection_sizes=[encoder.embed_dim])\n",
    "\n",
    "optimizer = optim.AdamW(decoder.parameters(), lr=lr)\n"
   ],
   "metadata": {
    "collapsed": false
   }
  },
  {
   "cell_type": "code",
   "execution_count": 29,
   "outputs": [
    {
     "name": "stdout",
     "output_type": "stream",
     "text": [
      "\n",
      "\n",
      "\n",
      "** Starting epoch 0 **\n",
      ">>>> encoding fmri scans -> tokenizing captions -> decoding \n",
      ">>>> batch 0 finished\n",
      ">>>> encoding fmri scans -> tokenizing captions -> decoding \n",
      ">>>> batch 1 finished\n",
      ">>>> encoding fmri scans -> tokenizing captions -> decoding \n",
      ">>>> batch 2 finished\n",
      ">>>> encoding fmri scans -> tokenizing captions -> decoding \n",
      ">>>> batch 3 finished\n",
      ">>>> encoding fmri scans -> tokenizing captions -> decoding \n",
      ">>>> batch 4 finished\n",
      ">>>> encoding fmri scans -> tokenizing captions -> decoding \n",
      ">>>> batch 5 finished\n",
      ">>>> encoding fmri scans -> tokenizing captions -> decoding \n",
      ">>>> batch 6 finished\n",
      ">>>> encoding fmri scans -> tokenizing captions -> decoding \n",
      ">>>> batch 7 finished\n",
      ">>>> encoding fmri scans -> tokenizing captions -> decoding \n",
      ">>>> batch 8 finished\n",
      ">>>> encoding fmri scans -> tokenizing captions -> decoding \n",
      ">>>> batch 9 finished\n",
      ">>>> encoding fmri scans -> tokenizing captions -> decoding \n",
      ">>>> batch 10 finished\n",
      ">>>> encoding fmri scans -> tokenizing captions -> decoding \n",
      ">>>> batch 11 finished\n",
      ">>>> encoding fmri scans -> tokenizing captions -> decoding \n",
      ">>>> batch 12 finished\n",
      ">>>> encoding fmri scans -> tokenizing captions -> decoding \n"
     ]
    },
    {
     "ename": "KeyboardInterrupt",
     "evalue": "",
     "output_type": "error",
     "traceback": [
      "\u001B[1;31m---------------------------------------------------------------------------\u001B[0m",
      "\u001B[1;31mKeyboardInterrupt\u001B[0m                         Traceback (most recent call last)",
      "Cell \u001B[1;32mIn[29], line 21\u001B[0m\n\u001B[0;32m     18\u001B[0m logits \u001B[38;5;241m=\u001B[39m outputs\u001B[38;5;241m.\u001B[39mlogits[:, decoder\u001B[38;5;241m.\u001B[39mprefix_length\u001B[38;5;241m-\u001B[39m\u001B[38;5;241m1\u001B[39m:\u001B[38;5;241m-\u001B[39m\u001B[38;5;241m1\u001B[39m]\n\u001B[0;32m     20\u001B[0m loss \u001B[38;5;241m=\u001B[39m F\u001B[38;5;241m.\u001B[39mcross_entropy(logits\u001B[38;5;241m.\u001B[39mreshape(\u001B[38;5;241m-\u001B[39m\u001B[38;5;241m1\u001B[39m, logits\u001B[38;5;241m.\u001B[39mshape[\u001B[38;5;241m-\u001B[39m\u001B[38;5;241m1\u001B[39m]), tokens\u001B[38;5;241m.\u001B[39mflatten(), ignore_index\u001B[38;5;241m=\u001B[39mdecoder\u001B[38;5;241m.\u001B[39mtokenizer\u001B[38;5;241m.\u001B[39mpad_token_id)\n\u001B[1;32m---> 21\u001B[0m \u001B[43mloss\u001B[49m\u001B[38;5;241;43m.\u001B[39;49m\u001B[43mbackward\u001B[49m\u001B[43m(\u001B[49m\u001B[43m)\u001B[49m\n\u001B[0;32m     22\u001B[0m epoch_train_loss\u001B[38;5;241m.\u001B[39mappend(loss\u001B[38;5;241m.\u001B[39mitem())\n\u001B[0;32m     23\u001B[0m optimizer\u001B[38;5;241m.\u001B[39mstep()\n",
      "File \u001B[1;32m~\\anaconda3\\envs\\mind-cap\\lib\\site-packages\\torch\\_tensor.py:396\u001B[0m, in \u001B[0;36mTensor.backward\u001B[1;34m(self, gradient, retain_graph, create_graph, inputs)\u001B[0m\n\u001B[0;32m    387\u001B[0m \u001B[38;5;28;01mif\u001B[39;00m has_torch_function_unary(\u001B[38;5;28mself\u001B[39m):\n\u001B[0;32m    388\u001B[0m     \u001B[38;5;28;01mreturn\u001B[39;00m handle_torch_function(\n\u001B[0;32m    389\u001B[0m         Tensor\u001B[38;5;241m.\u001B[39mbackward,\n\u001B[0;32m    390\u001B[0m         (\u001B[38;5;28mself\u001B[39m,),\n\u001B[1;32m   (...)\u001B[0m\n\u001B[0;32m    394\u001B[0m         create_graph\u001B[38;5;241m=\u001B[39mcreate_graph,\n\u001B[0;32m    395\u001B[0m         inputs\u001B[38;5;241m=\u001B[39minputs)\n\u001B[1;32m--> 396\u001B[0m \u001B[43mtorch\u001B[49m\u001B[38;5;241;43m.\u001B[39;49m\u001B[43mautograd\u001B[49m\u001B[38;5;241;43m.\u001B[39;49m\u001B[43mbackward\u001B[49m\u001B[43m(\u001B[49m\u001B[38;5;28;43mself\u001B[39;49m\u001B[43m,\u001B[49m\u001B[43m \u001B[49m\u001B[43mgradient\u001B[49m\u001B[43m,\u001B[49m\u001B[43m \u001B[49m\u001B[43mretain_graph\u001B[49m\u001B[43m,\u001B[49m\u001B[43m \u001B[49m\u001B[43mcreate_graph\u001B[49m\u001B[43m,\u001B[49m\u001B[43m \u001B[49m\u001B[43minputs\u001B[49m\u001B[38;5;241;43m=\u001B[39;49m\u001B[43minputs\u001B[49m\u001B[43m)\u001B[49m\n",
      "File \u001B[1;32m~\\anaconda3\\envs\\mind-cap\\lib\\site-packages\\torch\\autograd\\__init__.py:173\u001B[0m, in \u001B[0;36mbackward\u001B[1;34m(tensors, grad_tensors, retain_graph, create_graph, grad_variables, inputs)\u001B[0m\n\u001B[0;32m    168\u001B[0m     retain_graph \u001B[38;5;241m=\u001B[39m create_graph\n\u001B[0;32m    170\u001B[0m \u001B[38;5;66;03m# The reason we repeat same the comment below is that\u001B[39;00m\n\u001B[0;32m    171\u001B[0m \u001B[38;5;66;03m# some Python versions print out the first line of a multi-line function\u001B[39;00m\n\u001B[0;32m    172\u001B[0m \u001B[38;5;66;03m# calls in the traceback and some print out the last line\u001B[39;00m\n\u001B[1;32m--> 173\u001B[0m \u001B[43mVariable\u001B[49m\u001B[38;5;241;43m.\u001B[39;49m\u001B[43m_execution_engine\u001B[49m\u001B[38;5;241;43m.\u001B[39;49m\u001B[43mrun_backward\u001B[49m\u001B[43m(\u001B[49m\u001B[43m  \u001B[49m\u001B[38;5;66;43;03m# Calls into the C++ engine to run the backward pass\u001B[39;49;00m\n\u001B[0;32m    174\u001B[0m \u001B[43m    \u001B[49m\u001B[43mtensors\u001B[49m\u001B[43m,\u001B[49m\u001B[43m \u001B[49m\u001B[43mgrad_tensors_\u001B[49m\u001B[43m,\u001B[49m\u001B[43m \u001B[49m\u001B[43mretain_graph\u001B[49m\u001B[43m,\u001B[49m\u001B[43m \u001B[49m\u001B[43mcreate_graph\u001B[49m\u001B[43m,\u001B[49m\u001B[43m \u001B[49m\u001B[43minputs\u001B[49m\u001B[43m,\u001B[49m\n\u001B[0;32m    175\u001B[0m \u001B[43m    \u001B[49m\u001B[43mallow_unreachable\u001B[49m\u001B[38;5;241;43m=\u001B[39;49m\u001B[38;5;28;43;01mTrue\u001B[39;49;00m\u001B[43m,\u001B[49m\u001B[43m \u001B[49m\u001B[43maccumulate_grad\u001B[49m\u001B[38;5;241;43m=\u001B[39;49m\u001B[38;5;28;43;01mTrue\u001B[39;49;00m\u001B[43m)\u001B[49m\n",
      "\u001B[1;31mKeyboardInterrupt\u001B[0m: "
     ]
    }
   ],
   "source": [
    "# Train\n",
    "print(\"\\n\\n\")\n",
    "epoch_train_loss = []\n",
    "for epoch in range(NUM_EPOCHS):\n",
    "    decoder.train()\n",
    "    print(f\"** Starting epoch {epoch} **\")\n",
    "    for batch_idx, batch in enumerate(train_dl):\n",
    "        encoder.zero_grad()\n",
    "        optimizer.zero_grad()\n",
    "\n",
    "        print(f\">>>> encoding fmri scans \", end=\"\")\n",
    "        fmri_prefix = encoder.forward(batch['fmri'])\n",
    "        print(f\"-> tokenizing captions \", end=\"\")\n",
    "        tokens, attention_mask = decoder.tokenizer(batch['caption'], return_tensors=\"pt\", padding=True).values()\n",
    "        tokens, attention_mask, fmri_prefix = tokens.to(device), attention_mask.to(device), fmri_prefix.to(device)\n",
    "        print(f\"-> decoding \")\n",
    "        outputs = decoder.forward(tokens, fmri_prefix, attention_mask)\n",
    "        logits = outputs.logits[:, decoder.prefix_length-1:-1]\n",
    "\n",
    "        loss = F.cross_entropy(logits.reshape(-1, logits.shape[-1]), tokens.flatten(), ignore_index=decoder.tokenizer.pad_token_id)\n",
    "        loss.backward()\n",
    "        epoch_train_loss.append(loss.item())\n",
    "        optimizer.step()\n",
    "        print(f\">>>> batch {batch_idx} finished\")\n",
    "\n",
    "    print(f\"---- epoch loss: {epoch_train_loss[epoch]} ---- \")\n",
    "\n"
   ],
   "metadata": {
    "collapsed": false
   }
  },
  {
   "cell_type": "code",
   "execution_count": 33,
   "outputs": [],
   "source": [
    "sent1 = \"I like Python because I can build AI applications\"\n",
    "sent2 = \"I like Python because I can do data analytics\"\n",
    "token1 = decoder.tokenizer.encode(sent1, return_tensors=\"pt\")\n",
    "token2 = decoder.tokenizer.encode(sent2, return_tensors=\"pt\")\n",
    "embed1 = decoder.gpt.transformer.wte(token1)\n",
    "embed2 = decoder.gpt.transformer.wte(token2)\n",
    "#torch.cosine_similarity()"
   ],
   "metadata": {
    "collapsed": false
   }
  },
  {
   "cell_type": "code",
   "execution_count": 44,
   "outputs": [
    {
     "ename": "RuntimeError",
     "evalue": "torch.searchsorted(): boundaries tensor should be 1 dimension or the first N-1 dimensions of boundaries tensor and input value tensor must match, but we got boundaries tensor [3, 16, 1000] and input value tensor [3, 1]",
     "output_type": "error",
     "traceback": [
      "\u001B[1;31m---------------------------------------------------------------------------\u001B[0m",
      "\u001B[1;31mRuntimeError\u001B[0m                              Traceback (most recent call last)",
      "Cell \u001B[1;32mIn[44], line 1\u001B[0m\n\u001B[1;32m----> 1\u001B[0m filtered \u001B[38;5;241m=\u001B[39m \u001B[43mtop_k_top_p_filtering\u001B[49m\u001B[43m(\u001B[49m\u001B[43mlogits\u001B[49m\u001B[43m,\u001B[49m\u001B[43mtop_k\u001B[49m\u001B[38;5;241;43m=\u001B[39;49m\u001B[38;5;241;43m1000\u001B[39;49m\u001B[43m,\u001B[49m\u001B[43m \u001B[49m\u001B[43mtop_p\u001B[49m\u001B[38;5;241;43m=\u001B[39;49m\u001B[38;5;241;43m0.95\u001B[39;49m\u001B[43m)\u001B[49m\n",
      "File \u001B[1;32m~\\OneDrive - Technion\\Semester 7\\DL\\Project\\Mind-Cap\\Mind-Cap\\code\\fmri_caption.py:134\u001B[0m, in \u001B[0;36mtop_k_top_p_filtering\u001B[1;34m(next_token_logits, top_k, top_p, device)\u001B[0m\n\u001B[0;32m    132\u001B[0m cumulative_p \u001B[38;5;241m=\u001B[39m p\u001B[38;5;241m.\u001B[39mcumsum(dim\u001B[38;5;241m=\u001B[39m\u001B[38;5;241m-\u001B[39m\u001B[38;5;241m1\u001B[39m)\n\u001B[0;32m    133\u001B[0m threshold_repeated \u001B[38;5;241m=\u001B[39m top_p \u001B[38;5;241m+\u001B[39m torch\u001B[38;5;241m.\u001B[39mzeros((\u001B[38;5;28mlen\u001B[39m(p), \u001B[38;5;241m1\u001B[39m))\u001B[38;5;241m.\u001B[39mto(device)\n\u001B[1;32m--> 134\u001B[0m idx \u001B[38;5;241m=\u001B[39m \u001B[43mtorch\u001B[49m\u001B[38;5;241;43m.\u001B[39;49m\u001B[43msearchsorted\u001B[49m\u001B[43m(\u001B[49m\u001B[43mcumulative_p\u001B[49m\u001B[43m,\u001B[49m\u001B[43m \u001B[49m\u001B[43mthreshold_repeated\u001B[49m\u001B[43m)\u001B[49m\u001B[38;5;241m.\u001B[39mclip(\u001B[38;5;28mmax\u001B[39m\u001B[38;5;241m=\u001B[39mtop_k \u001B[38;5;241m-\u001B[39m \u001B[38;5;241m1\u001B[39m)\u001B[38;5;241m.\u001B[39msqueeze()\n\u001B[0;32m    135\u001B[0m cutoffs \u001B[38;5;241m=\u001B[39m cumulative_p[torch\u001B[38;5;241m.\u001B[39marange(\u001B[38;5;28mlen\u001B[39m(cumulative_p)), idx]\n\u001B[0;32m    136\u001B[0m censored_p \u001B[38;5;241m=\u001B[39m (cumulative_p \u001B[38;5;241m<\u001B[39m\u001B[38;5;241m=\u001B[39m cutoffs[:, \u001B[38;5;28;01mNone\u001B[39;00m]) \u001B[38;5;241m*\u001B[39m p\n",
      "\u001B[1;31mRuntimeError\u001B[0m: torch.searchsorted(): boundaries tensor should be 1 dimension or the first N-1 dimensions of boundaries tensor and input value tensor must match, but we got boundaries tensor [3, 16, 1000] and input value tensor [3, 1]"
     ]
    }
   ],
   "source": [
    "filtered = top_k_top_p_filtering(logits,top_k=1000, top_p=0.95)"
   ],
   "metadata": {
    "collapsed": false
   }
  }
 ],
 "metadata": {
  "kernelspec": {
   "display_name": "Python 3",
   "language": "python",
   "name": "python3"
  },
  "language_info": {
   "codemirror_mode": {
    "name": "ipython",
    "version": 2
   },
   "file_extension": ".py",
   "mimetype": "text/x-python",
   "name": "python",
   "nbconvert_exporter": "python",
   "pygments_lexer": "ipython2",
   "version": "2.7.6"
  }
 },
 "nbformat": 4,
 "nbformat_minor": 0
}
